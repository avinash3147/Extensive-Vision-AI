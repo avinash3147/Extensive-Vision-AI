{
  "nbformat": 4,
  "nbformat_minor": 0,
  "metadata": {
    "colab": {
      "name": "Session3 Assignment.ipynb",
      "provenance": [],
      "collapsed_sections": [],
      "include_colab_link": true
    },
    "kernelspec": {
      "name": "python3",
      "display_name": "Python 3"
    },
    "language_info": {
      "name": "python"
    },
    "accelerator": "GPU"
  },
  "cells": [
    {
      "cell_type": "markdown",
      "metadata": {
        "id": "view-in-github",
        "colab_type": "text"
      },
      "source": [
        "<a href=\"https://colab.research.google.com/github/NSR9/Extensive-Vision-AI/blob/main/Assignment3/Session3_Assignment.ipynb\" target=\"_parent\"><img src=\"https://colab.research.google.com/assets/colab-badge.svg\" alt=\"Open In Colab\"/></a>"
      ]
    },
    {
      "cell_type": "markdown",
      "metadata": {
        "id": "PMMuxzkA7eYT"
      },
      "source": [
        "### **SESSION 3 ASSIGNMENT**\n",
        "\n",
        "**Problem Statement**:\n",
        "* take 2 inputs:\n",
        "  * an image from MNIST dataset, and\n",
        "  * a random number between 0 and 9\n",
        "* give two outputs:\n",
        "  * the \"number\" that was represented by the MNIST image, and\n",
        "  * the \"sum\" of this number with the random number that was generated and sent as the input to the network"
      ]
    },
    {
      "cell_type": "code",
      "metadata": {
        "id": "6kNIJqr-7Rr_"
      },
      "source": [
        "import numpy as np\n",
        "import matplotlib.pyplot as plt\n",
        "\n",
        "import torch\n",
        "import torchvision\n",
        "import torch.nn as nn\n",
        "import torch.nn.functional as F\n",
        "import torchvision.transforms as transforms\n",
        "from torch.utils.data import Dataset, DataLoader"
      ],
      "execution_count": null,
      "outputs": []
    },
    {
      "cell_type": "markdown",
      "metadata": {
        "id": "ed0jhAU88GPP"
      },
      "source": [
        "#### **Get Train and Test Data**\n",
        "* **DataSet Used** Customized MNIST data"
      ]
    },
    {
      "cell_type": "markdown",
      "metadata": {
        "id": "jte8aeRP8VW5"
      },
      "source": [
        "##### **Download MNIST Train and Test Data**"
      ]
    },
    {
      "cell_type": "code",
      "metadata": {
        "id": "q7eWRCNb8ERg"
      },
      "source": [
        "# Get Train Data\n",
        "train_data = torchvision.datasets.MNIST(\n",
        "    root='./data',\n",
        "    train= True,\n",
        "    download= True,\n",
        "    transform = transforms.Compose(\n",
        "        [transforms.ToTensor()]\n",
        "    )\n",
        ")\n",
        "\n",
        "# Get Test Data\n",
        "test_data = torchvision.datasets.MNIST(\n",
        "    root='./data',\n",
        "    train= False,\n",
        "    download= True,\n",
        "    transform = transforms.Compose(\n",
        "        [transforms.ToTensor()]\n",
        "    )\n",
        ")"
      ],
      "execution_count": null,
      "outputs": []
    },
    {
      "cell_type": "code",
      "metadata": {
        "id": "6FSXwHyr9TrC",
        "colab": {
          "base_uri": "https://localhost:8080/"
        },
        "outputId": "56c2893a-08e7-4a8d-b3e3-a630e7bd9de4"
      },
      "source": [
        "len(train_data)"
      ],
      "execution_count": null,
      "outputs": [
        {
          "output_type": "execute_result",
          "data": {
            "text/plain": [
              "60000"
            ]
          },
          "metadata": {
            "tags": []
          },
          "execution_count": 50
        }
      ]
    },
    {
      "cell_type": "code",
      "metadata": {
        "id": "UXXfRZyx9VjB",
        "colab": {
          "base_uri": "https://localhost:8080/"
        },
        "outputId": "48ce8f78-894c-4ad7-f740-08f83bf83de5"
      },
      "source": [
        "len(test_data)"
      ],
      "execution_count": null,
      "outputs": [
        {
          "output_type": "execute_result",
          "data": {
            "text/plain": [
              "10000"
            ]
          },
          "metadata": {
            "tags": []
          },
          "execution_count": 51
        }
      ]
    },
    {
      "cell_type": "markdown",
      "metadata": {
        "id": "EFGbno_H8dPy"
      },
      "source": [
        "##### **Generate Custom Mnist Data**\n",
        "* **Custom Data** should have random number and sum label as well\n",
        "* DataSet Has following information:\n",
        "  * **MNIST Image Information**\n",
        "  * **One Hot Encoded Random Number**\n",
        "    * random number is generated from 0 to 9\n",
        "    * converted to one hot encoding vector\n",
        "  * **MNIST Image Label**\n",
        "  * **SUM Label**\n",
        "    * sum of mnist label plus random number"
      ]
    },
    {
      "cell_type": "code",
      "metadata": {
        "id": "M98DPQtB9PuT"
      },
      "source": [
        "# Generate Custom Dataset\n",
        "class CustomDataSet(Dataset):\n",
        "  def __init__(self, mnist_train_data):\n",
        "    \"\"\"\n",
        "      For Loop Explanation:\n",
        "        1. itearte through each row in dataset\n",
        "        2. Generate a random number\n",
        "        3. Add random plus mnist_label\n",
        "        4. Append mnist_image_data, mnist_label, random_number and sum to data list\n",
        "    \"\"\"\n",
        "    self.data = []\n",
        "    for mnist_image, mnist_label in iter(mnist_train_data):\n",
        "      random_number = np.random.randint(0, 9) # Generating a random number between 0 to 9\n",
        "      sum_label = mnist_label + random_number\n",
        "      # Generate one hot encoding vector using torch nn.functional package\n",
        "      # https://pytorch.org/docs/master/generated/torch.nn.functional.one_hot.html\n",
        "      encoded_random_number = F.one_hot(torch.tensor(random_number), num_classes=10)\n",
        "      # Append All information into data\n",
        "      self.data.append(\n",
        "          (\n",
        "              mnist_image,\n",
        "              encoded_random_number,\n",
        "              mnist_label,\n",
        "              sum_label\n",
        "           )\n",
        "      )\n",
        "\n",
        "  def __len__(self):\n",
        "    return len(self.data)\n",
        "\n",
        "  def __getitem__(self, index):\n",
        "    mnist_image, random_number, mnist_label, sum_label = self.data[index]\n",
        "    return mnist_image,random_number, mnist_label, sum_label"
      ],
      "execution_count": null,
      "outputs": []
    },
    {
      "cell_type": "code",
      "metadata": {
        "id": "teaakRne9dJT"
      },
      "source": [
        "# Customized Mnist Train and Test Data\n",
        "final_train_data = CustomDataSet(train_data)\n",
        "final_test_data = CustomDataSet(test_data)"
      ],
      "execution_count": null,
      "outputs": []
    },
    {
      "cell_type": "code",
      "metadata": {
        "id": "A_wM17TA9nOE",
        "colab": {
          "base_uri": "https://localhost:8080/"
        },
        "outputId": "41c8dd88-137a-4aba-ba48-f431c622f65c"
      },
      "source": [
        "len(next(iter(final_train_data))) "
      ],
      "execution_count": null,
      "outputs": [
        {
          "output_type": "execute_result",
          "data": {
            "text/plain": [
              "4"
            ]
          },
          "metadata": {
            "tags": []
          },
          "execution_count": 54
        }
      ]
    },
    {
      "cell_type": "code",
      "metadata": {
        "id": "KVPSzDym9n1y",
        "colab": {
          "base_uri": "https://localhost:8080/"
        },
        "outputId": "de90830a-9b65-4d57-99b9-e79e1ba0ccc8"
      },
      "source": [
        "# shape of encoded random. number data\n",
        "next(iter(final_train_data))[1].shape"
      ],
      "execution_count": null,
      "outputs": [
        {
          "output_type": "execute_result",
          "data": {
            "text/plain": [
              "torch.Size([10])"
            ]
          },
          "metadata": {
            "tags": []
          },
          "execution_count": 55
        }
      ]
    },
    {
      "cell_type": "code",
      "metadata": {
        "id": "e5dW7shK9nxq"
      },
      "source": [
        "sample = next(iter(final_train_data)) # 1 sample\n",
        "mnist_image, random_number, mnist_label, sum_label = sample"
      ],
      "execution_count": null,
      "outputs": []
    },
    {
      "cell_type": "code",
      "metadata": {
        "id": "93HqvfNV9nux",
        "colab": {
          "base_uri": "https://localhost:8080/",
          "height": 316
        },
        "outputId": "9d24cfdf-60d1-45fd-8250-f9652b69898e"
      },
      "source": [
        "plt.imshow(mnist_image.squeeze(), cmap='gray')\n",
        "print(\"== LABEL ==: \", mnist_label)\n",
        "print(\"== Random Number ==: \", random_number)\n",
        "print(\"== Sum ==: \", sum_label)"
      ],
      "execution_count": null,
      "outputs": [
        {
          "output_type": "stream",
          "text": [
            "== LABEL ==:  5\n",
            "== Random Number ==:  tensor([0, 0, 1, 0, 0, 0, 0, 0, 0, 0])\n",
            "== Sum ==:  7\n"
          ],
          "name": "stdout"
        },
        {
          "output_type": "display_data",
          "data": {
            "image/png": "[encoded data removed]",
            "text/plain": [
              "<Figure size 432x288 with 1 Axes>"
            ]
          },
          "metadata": {
            "tags": [],
            "needs_background": "light"
          }
        }
      ]
    },
    {
      "cell_type": "markdown",
      "metadata": {
        "id": "2FuUDrwR9cl9"
      },
      "source": [
        "#### **Load Data**"
      ]
    },
    {
      "cell_type": "code",
      "metadata": {
        "id": "8igan43w-Oh3"
      },
      "source": [
        "# Load Data using DataLoader\n",
        "train_loader = torch.utils.data.DataLoader(\n",
        "    dataset= final_train_data,\n",
        "    batch_size= 128,\n",
        "    shuffle= True\n",
        ")\n",
        "\n",
        "test_loader = torch.utils.data.DataLoader(\n",
        "    dataset= final_test_data,\n",
        "    batch_size= 128,\n",
        "    shuffle= True\n",
        ")"
      ],
      "execution_count": null,
      "outputs": []
    },
    {
      "cell_type": "code",
      "metadata": {
        "id": "BWbGnpi--QGh",
        "colab": {
          "base_uri": "https://localhost:8080/"
        },
        "outputId": "2e9a9cde-0296-40fe-b9c1-3f613414f8d2"
      },
      "source": [
        "len(next(iter(train_loader)))"
      ],
      "execution_count": null,
      "outputs": [
        {
          "output_type": "execute_result",
          "data": {
            "text/plain": [
              "4"
            ]
          },
          "metadata": {
            "tags": []
          },
          "execution_count": 59
        }
      ]
    },
    {
      "cell_type": "code",
      "metadata": {
        "id": "2W8N4jO2-R0M",
        "colab": {
          "base_uri": "https://localhost:8080/"
        },
        "outputId": "482b86a8-56a3-43c1-c1c2-3a513c43a7c7"
      },
      "source": [
        "sample = next(iter(train_loader))\n",
        "mnist_image, random_number, mnist_label, sum_label = sample\n",
        "\n",
        "print(\"== Image Shape ==: \", mnist_image.shape)\n",
        "print(\"== Random Number Shape ==: \", random_number.shape)\n",
        "print(\"== Mnist Label Shape ==: \", mnist_label.shape)\n",
        "print(\"== Sum Shape ==: \", sum_label.shape)"
      ],
      "execution_count": null,
      "outputs": [
        {
          "output_type": "stream",
          "text": [
            "== Image Shape ==:  torch.Size([128, 1, 28, 28])\n",
            "== Random Number Shape ==:  torch.Size([128, 10])\n",
            "== Mnist Label Shape ==:  torch.Size([128])\n",
            "== Sum Shape ==:  torch.Size([128])\n"
          ],
          "name": "stdout"
        }
      ]
    },
    {
      "cell_type": "markdown",
      "metadata": {
        "id": "jOcGLy2m-USj"
      },
      "source": [
        "#### **Network Design**\n",
        "* Network:\n",
        "  * 7 conv layers\n",
        "  * 2 max pool layers\n",
        "  * 2 fully connected layers\n",
        "\n",
        "* Reason for 7 conv layers \n",
        "  * kernel size 3\n",
        "  * increased output channels in multiple of 2\n",
        "  * 7th conv layers will give 10 outputs so that concatenation with encoded random tensor will of same dimemsion\n",
        "  * Adjusted padding so that 7th conv layer be give 10 outputs\n",
        "\n",
        "* Concatination of the two inputs:\n",
        "  * The output of the 7th conv layer contains the 10 tensor values of the MNIST image input and concatinated with the the one hot encoded random number tensor to pass  through a fully connected layer.\n",
        "  * The fully connected layer increases the parameter and then shrunks back to a final output tensor of 19 passing through a log_softmax()."
      ]
    },
    {
      "cell_type": "code",
      "metadata": {
        "id": "XGxkuWjM-TF1"
      },
      "source": [
        "# Network Design\n",
        "class Network(nn.Module):\n",
        "  def __init__(self):\n",
        "    super().__init__() \n",
        "    # 1x28x28\n",
        "    self.conv1 = nn.Conv2d(\n",
        "        in_channels= 1,\n",
        "        out_channels= 32,\n",
        "        kernel_size= 3,\n",
        "        padding=1\n",
        "    ) # 32x28x28\n",
        "\n",
        "    self.conv2 = nn.Conv2d(\n",
        "        in_channels=32, \n",
        "        out_channels=64, \n",
        "        kernel_size=3,\n",
        "        padding=1\n",
        "    )  # 64x28x28\n",
        "\n",
        "    self.max_pool1 = nn.MaxPool2d(2, 2) # 64x14x14\n",
        "                     \n",
        "    self.conv3 = nn.Conv2d(\n",
        "        in_channels= 64, \n",
        "        out_channels= 128, \n",
        "        kernel_size= 3,\n",
        "        padding=1\n",
        "    )  # 128x14x14\n",
        "\n",
        "    self.conv4 = nn.Conv2d(\n",
        "        in_channels= 128, \n",
        "        out_channels= 256, \n",
        "        kernel_size= 3,\n",
        "        padding=1\n",
        "    )    # 256x14x14\n",
        "\n",
        "    self.max_pool2 = nn.MaxPool2d(2, 2)  # 256x7x7\n",
        "    \n",
        "    self.conv5 = nn.Conv2d(\n",
        "        in_channels= 256, \n",
        "        out_channels= 512, \n",
        "        kernel_size= 3\n",
        "    )  # 512x5x5\n",
        "\n",
        "    self.conv6 = nn.Conv2d(\n",
        "        in_channels= 512, \n",
        "        out_channels= 1024, \n",
        "        kernel_size= 3\n",
        "    )  # 1024x3x3\n",
        "\n",
        "    self.conv7 = nn.Conv2d(\n",
        "        in_channels= 1024, \n",
        "        out_channels= 10,\n",
        "        kernel_size= 3\n",
        "    )  # 10x1x1\n",
        "\n",
        "    # out received from above layer is 10x1x1\n",
        "    # send one hot encoded random vector\n",
        "    # so total input features will become 20\n",
        "    self.fc1 = nn.Linear(\n",
        "        in_features= 20,\n",
        "        out_features= 64\n",
        "    )    \n",
        "\n",
        "    self.fc2 = nn.Linear(\n",
        "        in_features= 64,\n",
        "        out_features= 19\n",
        "    )\n",
        "\n",
        "\n",
        "  def forward(self, mnist_image, random_number):\n",
        "    mnist_image = self.conv1(mnist_image)\n",
        "    mnist_image = F.relu(mnist_image)\n",
        "    mnist_image = self.conv2(mnist_image)\n",
        "    mnist_image = F.relu(mnist_image)\n",
        "    mnist_image = self.max_pool1(mnist_image)\n",
        "\n",
        "    mnist_image = self.conv3(mnist_image)\n",
        "    mnist_image = F.relu(mnist_image)\n",
        "    mnist_image = self.conv4(mnist_image)\n",
        "    mnist_image = F.relu(mnist_image)\n",
        "    mnist_image = self.max_pool2(mnist_image)\n",
        "\n",
        "    mnist_image = self.conv5(mnist_image)\n",
        "    mnist_image = F.relu(mnist_image)\n",
        "    mnist_image = self.conv6(mnist_image)\n",
        "    mnist_image = F.relu(mnist_image)\n",
        "    mnist_image = self.conv7(mnist_image)\n",
        "\n",
        "    mnist_image = mnist_image.reshape(-1, 10) # 1x10\n",
        "\n",
        "    # Concatenate encoded random number vector with reshaped mnist_image\n",
        "    # 1x20\n",
        "    random_number = torch.cat(\n",
        "        (\n",
        "            mnist_image,\n",
        "            random_number\n",
        "        ),\n",
        "        dim= 1\n",
        "    ) # 1x20\n",
        "\n",
        "    # Pass concat vector to fully connected layers\n",
        "    random_number = self.fc1(random_number)\n",
        "    random_number = F.relu(random_number)\n",
        "    random_number = self.fc2(random_number)\n",
        "\n",
        "    return F.log_softmax(mnist_image), F.log_softmax(random_number)"
      ],
      "execution_count": null,
      "outputs": []
    },
    {
      "cell_type": "code",
      "metadata": {
        "id": "lxDOGUS4ADeX",
        "colab": {
          "base_uri": "https://localhost:8080/",
          "height": 35
        },
        "outputId": "6940c3c1-d394-40af-91dd-2f200ae43505"
      },
      "source": [
        "# Use cuda if available\n",
        "device = 'cuda' if torch.cuda.is_available() else 'cpu'\n",
        "device"
      ],
      "execution_count": null,
      "outputs": [
        {
          "output_type": "execute_result",
          "data": {
            "application/vnd.google.colaboratory.intrinsic+json": {
              "type": "string"
            },
            "text/plain": [
              "'cuda'"
            ]
          },
          "metadata": {
            "tags": []
          },
          "execution_count": 62
        }
      ]
    },
    {
      "cell_type": "code",
      "metadata": {
        "id": "U4rwya0RAIbJ",
        "colab": {
          "base_uri": "https://localhost:8080/"
        },
        "outputId": "88b558a8-56f9-4360-e028-f50b64dbe58c"
      },
      "source": [
        "network = Network()\n",
        "network.to(device)"
      ],
      "execution_count": null,
      "outputs": [
        {
          "output_type": "execute_result",
          "data": {
            "text/plain": [
              "Network(\n",
              "  (conv1): Conv2d(1, 32, kernel_size=(3, 3), stride=(1, 1), padding=(1, 1))\n",
              "  (conv2): Conv2d(32, 64, kernel_size=(3, 3), stride=(1, 1), padding=(1, 1))\n",
              "  (max_pool1): MaxPool2d(kernel_size=2, stride=2, padding=0, dilation=1, ceil_mode=False)\n",
              "  (conv3): Conv2d(64, 128, kernel_size=(3, 3), stride=(1, 1), padding=(1, 1))\n",
              "  (conv4): Conv2d(128, 256, kernel_size=(3, 3), stride=(1, 1), padding=(1, 1))\n",
              "  (max_pool2): MaxPool2d(kernel_size=2, stride=2, padding=0, dilation=1, ceil_mode=False)\n",
              "  (conv5): Conv2d(256, 512, kernel_size=(3, 3), stride=(1, 1))\n",
              "  (conv6): Conv2d(512, 1024, kernel_size=(3, 3), stride=(1, 1))\n",
              "  (conv7): Conv2d(1024, 10, kernel_size=(3, 3), stride=(1, 1))\n",
              "  (fc1): Linear(in_features=20, out_features=64, bias=True)\n",
              "  (fc2): Linear(in_features=64, out_features=19, bias=True)\n",
              ")"
            ]
          },
          "metadata": {
            "tags": []
          },
          "execution_count": 63
        }
      ]
    },
    {
      "cell_type": "code",
      "metadata": {
        "id": "iQW81s5xAJ3X",
        "colab": {
          "base_uri": "https://localhost:8080/"
        },
        "outputId": "1c33f061-84f3-4e7d-d1fa-9fb221a46147"
      },
      "source": [
        "batch = next(iter(train_loader))\n",
        "len(batch)"
      ],
      "execution_count": null,
      "outputs": [
        {
          "output_type": "execute_result",
          "data": {
            "text/plain": [
              "4"
            ]
          },
          "metadata": {
            "tags": []
          },
          "execution_count": 64
        }
      ]
    },
    {
      "cell_type": "code",
      "metadata": {
        "id": "wAm2x1BDAMEE",
        "colab": {
          "base_uri": "https://localhost:8080/"
        },
        "outputId": "76f88581-6498-4a5e-f4ca-efb126188c60"
      },
      "source": [
        "mnist_images, random_numbers, mnist_labels, sum_labels = batch\n",
        "\n",
        "print(mnist_images.shape, random_numbers.shape)\n",
        "\n",
        "pred_1, pred_2 = network(mnist_images.to(device), random_numbers.to(device))\n",
        "\n",
        "print(pred_1.shape, pred_2.shape)"
      ],
      "execution_count": null,
      "outputs": [
        {
          "output_type": "stream",
          "text": [
            "torch.Size([128, 1, 28, 28]) torch.Size([128, 10])\n",
            "torch.Size([128, 10]) torch.Size([128, 19])\n"
          ],
          "name": "stdout"
        },
        {
          "output_type": "stream",
          "text": [
            "/usr/local/lib/python3.7/dist-packages/ipykernel_launcher.py:106: UserWarning: Implicit dimension choice for log_softmax has been deprecated. Change the call to include dim=X as an argument.\n"
          ],
          "name": "stderr"
        }
      ]
    },
    {
      "cell_type": "code",
      "metadata": {
        "id": "JmOvnbDJANZX",
        "colab": {
          "base_uri": "https://localhost:8080/"
        },
        "outputId": "9806e231-5a16-4d33-a25f-3ae362816ce8"
      },
      "source": [
        "torch.set_grad_enabled(True) # enable gradients"
      ],
      "execution_count": null,
      "outputs": [
        {
          "output_type": "execute_result",
          "data": {
            "text/plain": [
              "<torch.autograd.grad_mode.set_grad_enabled at 0x7f9f416c1b50>"
            ]
          },
          "metadata": {
            "tags": []
          },
          "execution_count": 66
        }
      ]
    },
    {
      "cell_type": "code",
      "metadata": {
        "id": "scIFdFRdARJj"
      },
      "source": [
        "# default configuration parameters do well on most problems\n",
        "# default learning rate used i.e 0.001\n",
        "optimizer = torch.optim.Adam(network.parameters())"
      ],
      "execution_count": null,
      "outputs": []
    },
    {
      "cell_type": "code",
      "metadata": {
        "id": "q32xENBwA1ec"
      },
      "source": [
        "# function to return accuracy\n",
        "def get_num_correct(preds, labels):\n",
        "  preds = torch.argmax(preds,dim=1)\n",
        "\n",
        "  total_count = 0\n",
        "  for i in range(len(preds)):\n",
        "    if preds[i] == labels[i]:\n",
        "      total_count += 1\n",
        "  return total_count/len(preds)"
      ],
      "execution_count": null,
      "outputs": []
    },
    {
      "cell_type": "markdown",
      "metadata": {
        "id": "s2Z0aVfFA8B3"
      },
      "source": [
        "#### **TRAINING**\n",
        "\n",
        "Loss Calculation: \n",
        "If mnist accuracy falls below 95 then mnist loss will be used\n",
        "* Other sum loss is used\n",
        "*  Experimented with couple of scenarios\n",
        "   1. using mnist_loss\n",
        "   2. using using sum_loss\n",
        "   3. mnist_loss + sum_loss\n",
        "* Using loss in the following gave better results comapred to above 3 scenarios\n",
        "\n"
      ]
    },
    {
      "cell_type": "code",
      "metadata": {
        "id": "uqn518MTA6v4",
        "colab": {
          "base_uri": "https://localhost:8080/"
        },
        "outputId": "35f8048b-ee9d-481c-9629-ca4938980f35"
      },
      "source": [
        "# Training Loop\n",
        "for epoch in range(2):\n",
        "\n",
        "    mnist_loss = 0\n",
        "    sum_loss = 0\n",
        "    mnist_accuracy = 0\n",
        "    sum_accuracy = 0\n",
        "\n",
        "    for idx, batch in enumerate(train_loader): # Get Batch\n",
        "        mnist_images, random_numbers, mnist_labels, sum_label = batch \n",
        "\n",
        "        mnist_labels_predicted, sum_predicted = network(\n",
        "            mnist_images.to(device), \n",
        "            random_numbers.to(device)\n",
        "            ) # Pass Batch\n",
        "        \n",
        "        mnist_loss= F.cross_entropy(\n",
        "            mnist_labels_predicted, \n",
        "            mnist_labels.to(device)\n",
        "            )\n",
        "        \n",
        "        sum_loss = F.cross_entropy(\n",
        "            sum_predicted,\n",
        "            sum_label.to(device)\n",
        "        )\n",
        "\n",
        "        mnist_accuracy = get_num_correct(mnist_labels_predicted, mnist_labels.to(device))\n",
        "        sum_accuracy = get_num_correct(sum_predicted, sum_label.to(device))\n",
        "\n",
        "        optimizer.zero_grad()\n",
        "\n",
        "        # \n",
        "        if mnist_accuracy < 0.95:\n",
        "          mnist_loss.backward()\n",
        "        else:\n",
        "          sum_loss.backward()\n",
        "\n",
        "        optimizer.step() # Update Weights\n",
        "\n",
        "        mnist_loss += mnist_loss.item()\n",
        "        sum_loss += sum_loss.item()\n",
        "    print(\"EPOCH.   {}.  MNIST LOSS.   : {} SUM LOSS.     : {} MNIST ACCURACY.   {}.  SUM ACCURACY.  {}\".format(epoch, mnist_loss, sum_loss, mnist_accuracy, sum_accuracy))"
      ],
      "execution_count": null,
      "outputs": [
        {
          "output_type": "stream",
          "text": [
            "/usr/local/lib/python3.7/dist-packages/ipykernel_launcher.py:106: UserWarning: Implicit dimension choice for log_softmax has been deprecated. Change the call to include dim=X as an argument.\n"
          ],
          "name": "stderr"
        },
        {
          "output_type": "stream",
          "text": [
            "EPOCH.   0.  MNIST LOSS.   : 0.06367353349924088 SUM LOSS.     : 3.846897840499878 MNIST ACCURACY.   0.9895833333333334.  SUM ACCURACY.  0.4375\n",
            "EPOCH.   1.  MNIST LOSS.   : 0.2344648241996765 SUM LOSS.     : 1.2945970296859741 MNIST ACCURACY.   0.9791666666666666.  SUM ACCURACY.  0.96875\n"
          ],
          "name": "stdout"
        }
      ]
    },
    {
      "cell_type": "markdown",
      "metadata": {
        "id": "rLzA2cH4B2jJ"
      },
      "source": [
        "#### **TESTING**"
      ]
    },
    {
      "cell_type": "code",
      "metadata": {
        "id": "Lw2-BBb7BpX3",
        "colab": {
          "base_uri": "https://localhost:8080/"
        },
        "outputId": "30301d5b-3079-4370-934e-58e1553ed35c"
      },
      "source": [
        "# Test Loop\n",
        "torch.set_grad_enabled(False)\n",
        "\n",
        "test_mnist_accuracy = []\n",
        "test_sum_accuracy = []\n",
        "\n",
        "for idx, batch in enumerate(test_loader): # Get Batch\n",
        "    mnist_images, random_numbers, mnist_labels, sum_label = batch \n",
        "\n",
        "    mnist_labels_predicted, sum_predicted = network(\n",
        "        mnist_images.to(device), \n",
        "        random_numbers.to(device)\n",
        "        ) # Pass Batch\n",
        "\n",
        "    mnist_accuracy1 = get_num_correct(mnist_labels_predicted, mnist_labels.to(device))\n",
        "    sum_accuracy1 = get_num_correct(sum_predicted, sum_label.to(device))\n",
        "\n",
        "    test_mnist_accuracy.append(mnist_accuracy1)\n",
        "    test_sum_accuracy.append(sum_accuracy1)\n",
        "    \n",
        "s1 = 0\n",
        "m1 = 0\n",
        "for i in range(len(test_sum_accuracy)):\n",
        "  s1 += test_sum_accuracy[i]\n",
        "\n",
        "for i in range(len(test_mnist_accuracy)):\n",
        "  m1 += test_mnist_accuracy[i]\n",
        "\n",
        "\n",
        "s_ac = round((s1/len(test_sum_accuracy)) * 100, 2)\n",
        "m_ac = round((m1/len(test_mnist_accuracy)) * 100, 2)\n",
        "\n",
        "print(\"MNIST ACCURACY.   {}.  SUM ACCURACY.  {}\".format(m_ac, s_ac))"
      ],
      "execution_count": null,
      "outputs": [
        {
          "output_type": "stream",
          "text": [
            "/usr/local/lib/python3.7/dist-packages/ipykernel_launcher.py:106: UserWarning: Implicit dimension choice for log_softmax has been deprecated. Change the call to include dim=X as an argument.\n"
          ],
          "name": "stderr"
        },
        {
          "output_type": "stream",
          "text": [
            "MNIST ACCURACY.   98.47.  SUM ACCURACY.  94.85\n"
          ],
          "name": "stdout"
        }
      ]
    },
    {
      "cell_type": "code",
      "metadata": {
        "id": "VyRVSmAjFysq"
      },
      "source": [
        ""
      ],
      "execution_count": null,
      "outputs": []
    }
  ]
}
