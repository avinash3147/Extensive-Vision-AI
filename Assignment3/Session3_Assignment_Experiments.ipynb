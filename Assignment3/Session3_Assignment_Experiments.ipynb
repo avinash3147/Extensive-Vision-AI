{
  "nbformat": 4,
  "nbformat_minor": 0,
  "metadata": {
    "colab": {
      "name": "Assignment3-Experiments.ipynb",
      "provenance": [],
      "collapsed_sections": [],
      "include_colab_link": true
    },
    "kernelspec": {
      "name": "python3",
      "display_name": "Python 3"
    },
    "language_info": {
      "name": "python"
    },
    "accelerator": "GPU"
  },
  "cells": [
    {
      "cell_type": "markdown",
      "metadata": {
        "id": "view-in-github",
        "colab_type": "text"
      },
      "source": [
        "<a href=\"https://colab.research.google.com/github/NSR9/Extensive-Vision-AI/blob/main/Assignment3/Assignment3_Experiments.ipynb\" target=\"_parent\"><img src=\"https://colab.research.google.com/assets/colab-badge.svg\" alt=\"Open In Colab\"/></a>"
      ]
    },
    {
      "cell_type": "code",
      "metadata": {
        "id": "QRg_yVTU6YKV"
      },
      "source": [
        "import numpy as np\n",
        "import matplotlib.pyplot as plt\n",
        "\n",
        "import torch\n",
        "import torchvision\n",
        "import torch.nn as nn\n",
        "import torch.nn.functional as F\n",
        "import torchvision.transforms as transforms\n",
        "from torch.utils.data import Dataset, DataLoader"
      ],
      "execution_count": null,
      "outputs": []
    },
    {
      "cell_type": "code",
      "metadata": {
        "id": "kxjWSrpn66Pl"
      },
      "source": [
        "# Get Train Data\n",
        "train_data = torchvision.datasets.MNIST(\n",
        "    root='./data',\n",
        "    train= True,\n",
        "    download= True,\n",
        "    transform = transforms.Compose(\n",
        "        [transforms.ToTensor()]\n",
        "    )\n",
        ")\n",
        "\n",
        "# Get Test Data\n",
        "test_data = torchvision.datasets.MNIST(\n",
        "    root='./data',\n",
        "    train= False,\n",
        "    download= True,\n",
        "    transform = transforms.Compose(\n",
        "        [transforms.ToTensor()]\n",
        "    )\n",
        ")"
      ],
      "execution_count": null,
      "outputs": []
    },
    {
      "cell_type": "code",
      "metadata": {
        "colab": {
          "base_uri": "https://localhost:8080/"
        },
        "id": "k5e3FkGv7GOT",
        "outputId": "93c55320-f1f9-4d96-ab55-1478785ca376"
      },
      "source": [
        "len(train_data)"
      ],
      "execution_count": null,
      "outputs": [
        {
          "output_type": "execute_result",
          "data": {
            "text/plain": [
              "60000"
            ]
          },
          "metadata": {
            "tags": []
          },
          "execution_count": 57
        }
      ]
    },
    {
      "cell_type": "code",
      "metadata": {
        "colab": {
          "base_uri": "https://localhost:8080/"
        },
        "id": "aUUBoz8S7Juz",
        "outputId": "21861fd8-7104-4973-cdbd-752aa3c90a81"
      },
      "source": [
        "len(test_data)"
      ],
      "execution_count": null,
      "outputs": [
        {
          "output_type": "execute_result",
          "data": {
            "text/plain": [
              "10000"
            ]
          },
          "metadata": {
            "tags": []
          },
          "execution_count": 58
        }
      ]
    },
    {
      "cell_type": "code",
      "metadata": {
        "id": "ZagllODS7SZa"
      },
      "source": [
        "# Generate Custom Dataset\n",
        "class CustomDataSet(Dataset):\n",
        "  def __init__(self, mnist_train_data):\n",
        "    \"\"\"\n",
        "      For Loop Explanation:\n",
        "        1. itearte through each row in dataset\n",
        "        2. Generate a random number\n",
        "        3. Add random plus mnist_label\n",
        "        4. Append mnist_image_data, mnist_label, random_number and sum to data list\n",
        "    \"\"\"\n",
        "    self.data = []\n",
        "    for mnist_image, mnist_label in iter(mnist_train_data):\n",
        "      random_number = np.random.randint(0, 9) # Generating a random number between 0 to 9\n",
        "      sum_label = mnist_label + random_number\n",
        "      # Generate one hot encoding vector using torch nn.functional package\n",
        "      # https://pytorch.org/docs/master/generated/torch.nn.functional.one_hot.html\n",
        "      encoded_random_number = F.one_hot(torch.tensor(random_number), num_classes=10)\n",
        "      # Append All information into data\n",
        "      self.data.append(\n",
        "          (\n",
        "              mnist_image,\n",
        "              encoded_random_number,\n",
        "              mnist_label,\n",
        "              sum_label\n",
        "           )\n",
        "      )\n",
        "\n",
        "  def __len__(self):\n",
        "    return len(self.data)\n",
        "\n",
        "  def __getitem__(self, index):\n",
        "    mnist_image, random_number, mnist_label, sum_label = self.data[index]\n",
        "    return mnist_image,random_number, mnist_label, sum_label"
      ],
      "execution_count": null,
      "outputs": []
    },
    {
      "cell_type": "code",
      "metadata": {
        "id": "IZnub81u71FA"
      },
      "source": [
        "final_train_data = CustomDataSet(train_data)\n",
        "final_test_data = CustomDataSet(test_data)"
      ],
      "execution_count": null,
      "outputs": []
    },
    {
      "cell_type": "code",
      "metadata": {
        "colab": {
          "base_uri": "https://localhost:8080/"
        },
        "id": "XJo1UH7J75dl",
        "outputId": "61b8d0bb-0996-4fa8-a6e0-220b53cd8385"
      },
      "source": [
        "len(next(iter(final_train_data)))"
      ],
      "execution_count": null,
      "outputs": [
        {
          "output_type": "execute_result",
          "data": {
            "text/plain": [
              "4"
            ]
          },
          "metadata": {
            "tags": []
          },
          "execution_count": 61
        }
      ]
    },
    {
      "cell_type": "code",
      "metadata": {
        "colab": {
          "base_uri": "https://localhost:8080/"
        },
        "id": "6GAMf--h8c2c",
        "outputId": "a32a20ce-f9a2-4696-acec-1d6e919e73a5"
      },
      "source": [
        "next(iter(final_train_data))[1].shape"
      ],
      "execution_count": null,
      "outputs": [
        {
          "output_type": "execute_result",
          "data": {
            "text/plain": [
              "torch.Size([10])"
            ]
          },
          "metadata": {
            "tags": []
          },
          "execution_count": 62
        }
      ]
    },
    {
      "cell_type": "code",
      "metadata": {
        "colab": {
          "base_uri": "https://localhost:8080/"
        },
        "id": "sDYeAx0B8Dhj",
        "outputId": "9cde1f61-c0db-4872-b48d-c063c8668679"
      },
      "source": [
        "next(iter(final_train_data))[0].shape"
      ],
      "execution_count": null,
      "outputs": [
        {
          "output_type": "execute_result",
          "data": {
            "text/plain": [
              "torch.Size([1, 28, 28])"
            ]
          },
          "metadata": {
            "tags": []
          },
          "execution_count": 63
        }
      ]
    },
    {
      "cell_type": "code",
      "metadata": {
        "id": "x7-XAAiX8USI"
      },
      "source": [
        "sample = next(iter(final_train_data))\n",
        "mnist_image, random_number, mnist_label, sum_label = sample"
      ],
      "execution_count": null,
      "outputs": []
    },
    {
      "cell_type": "code",
      "metadata": {
        "colab": {
          "base_uri": "https://localhost:8080/",
          "height": 316
        },
        "id": "ebq1u8cb9AX5",
        "outputId": "3aa38291-e4d0-407f-b5a9-a8ca5512f80b"
      },
      "source": [
        "plt.imshow(mnist_image.squeeze(), cmap='gray')\n",
        "print(\"== LABEL ==: \", mnist_label)\n",
        "print(\"== Random Number ==: \", random_number)\n",
        "print(\"== Sum ==: \", sum_label)"
      ],
      "execution_count": null,
      "outputs": [
        {
          "output_type": "stream",
          "text": [
            "== LABEL ==:  5\n",
            "== Random Number ==:  tensor([1, 0, 0, 0, 0, 0, 0, 0, 0, 0])\n",
            "== Sum ==:  5\n"
          ],
          "name": "stdout"
        },
        {
          "output_type": "display_data",
          "data": {
            "image/png": "[encoded data removed]",
            "text/plain": [
              "<Figure size 432x288 with 1 Axes>"
            ]
          },
          "metadata": {
            "tags": [],
            "needs_background": "light"
          }
        }
      ]
    },
    {
      "cell_type": "code",
      "metadata": {
        "id": "SQA8OY4e9hFh"
      },
      "source": [
        "# Load Data\n",
        "train_loader = torch.utils.data.DataLoader(\n",
        "    dataset= final_train_data,\n",
        "    batch_size= 128,\n",
        "    shuffle= True\n",
        ")\n",
        "\n",
        "test_loader = torch.utils.data.DataLoader(\n",
        "    dataset= final_test_data,\n",
        "    batch_size= 128,\n",
        "    shuffle= True\n",
        ")"
      ],
      "execution_count": null,
      "outputs": []
    },
    {
      "cell_type": "code",
      "metadata": {
        "colab": {
          "base_uri": "https://localhost:8080/"
        },
        "id": "TIzGH4tu9_iz",
        "outputId": "db96267b-d31e-43c8-a59c-5c08f6b4d357"
      },
      "source": [
        "len(next(iter(train_loader)))"
      ],
      "execution_count": null,
      "outputs": [
        {
          "output_type": "execute_result",
          "data": {
            "text/plain": [
              "4"
            ]
          },
          "metadata": {
            "tags": []
          },
          "execution_count": 67
        }
      ]
    },
    {
      "cell_type": "code",
      "metadata": {
        "colab": {
          "base_uri": "https://localhost:8080/"
        },
        "id": "C5WCxG3A-E75",
        "outputId": "ed0abd5d-bed4-43bf-b86b-1fcfb14922a1"
      },
      "source": [
        "sample = next(iter(train_loader))\n",
        "mnist_image, random_number, mnist_label, sum_label = sample\n",
        "\n",
        "print(\"== Image Shape ==: \", mnist_image.shape)\n",
        "print(\"== Random Number Shape ==: \", random_number.shape)\n",
        "print(\"== Mnist Label Shape ==: \", mnist_label.shape)\n",
        "print(\"== Sum Shape ==: \", sum_label.shape)"
      ],
      "execution_count": null,
      "outputs": [
        {
          "output_type": "stream",
          "text": [
            "== Image Shape ==:  torch.Size([128, 1, 28, 28])\n",
            "== Random Number Shape ==:  torch.Size([128, 10])\n",
            "== Mnist Label Shape ==:  torch.Size([128])\n",
            "== Sum Shape ==:  torch.Size([128])\n"
          ],
          "name": "stdout"
        }
      ]
    },
    {
      "cell_type": "code",
      "metadata": {
        "id": "L1oELlXA-JW8"
      },
      "source": [
        "# Network Design\n",
        "class Network(nn.Module):\n",
        "  def __init__(self):\n",
        "    super().__init__()\n",
        "    self.conv1 = nn.Conv2d(\n",
        "        in_channels= 1,\n",
        "        out_channels= 32,\n",
        "        kernel_size= 3,\n",
        "        padding=1\n",
        "    ) \n",
        "\n",
        "    self.conv2 = nn.Conv2d(\n",
        "        in_channels=32, \n",
        "        out_channels=64, \n",
        "        kernel_size=3,\n",
        "        padding=1\n",
        "    )  \n",
        "\n",
        "    self.max_pool1 = nn.MaxPool2d(2, 2) \n",
        "                     \n",
        "    self.conv3 = nn.Conv2d(\n",
        "        in_channels= 64, \n",
        "        out_channels= 128, \n",
        "        kernel_size= 3,\n",
        "        padding=1\n",
        "    )  \n",
        "\n",
        "    self.conv4 = nn.Conv2d(\n",
        "        in_channels= 128, \n",
        "        out_channels= 256, \n",
        "        kernel_size= 3,\n",
        "        padding=1\n",
        "    )    \n",
        "\n",
        "    self.max_pool2 = nn.MaxPool2d(2, 2)  \n",
        "    \n",
        "    self.conv5 = nn.Conv2d(\n",
        "        in_channels= 256, \n",
        "        out_channels= 512, \n",
        "        kernel_size= 3\n",
        "    )  \n",
        "\n",
        "    self.conv6 = nn.Conv2d(\n",
        "        in_channels= 512, \n",
        "        out_channels= 1024, \n",
        "        kernel_size= 3\n",
        "    )  \n",
        "\n",
        "    self.conv7 = nn.Conv2d(\n",
        "        in_channels= 1024, \n",
        "        out_channels= 10,\n",
        "        kernel_size= 3\n",
        "    )  \n",
        "\n",
        "    # out received from above layer is 10x1x1\n",
        "    # send one hot encoded random vector\n",
        "    # so total input features will become 20\n",
        "    self.fc1 = nn.Linear(\n",
        "        in_features= 20,\n",
        "        out_features= 64\n",
        "    )    \n",
        "\n",
        "    self.fc2 = nn.Linear(\n",
        "        in_features= 64,\n",
        "        out_features= 19\n",
        "    )\n",
        "\n",
        "\n",
        "  def forward(self, mnist_image, random_number):\n",
        "    mnist_image = self.conv1(mnist_image)\n",
        "    mnist_image = F.relu(mnist_image)\n",
        "    mnist_image = self.conv2(mnist_image)\n",
        "    mnist_image = F.relu(mnist_image)\n",
        "    mnist_image = self.max_pool1(mnist_image)\n",
        "\n",
        "    mnist_image = self.conv3(mnist_image)\n",
        "    mnist_image = F.relu(mnist_image)\n",
        "    mnist_image = self.conv4(mnist_image)\n",
        "    mnist_image = F.relu(mnist_image)\n",
        "    mnist_image = self.max_pool2(mnist_image)\n",
        "\n",
        "    mnist_image = self.conv5(mnist_image)\n",
        "    mnist_image = F.relu(mnist_image)\n",
        "    mnist_image = self.conv6(mnist_image)\n",
        "    mnist_image = F.relu(mnist_image)\n",
        "    mnist_image = self.conv7(mnist_image)\n",
        "\n",
        "    mnist_image = mnist_image.reshape(-1, 10)\n",
        "\n",
        "    # Concatenate encoded random number vector with reshaped mnist_image\n",
        "    # 1x20\n",
        "    random_number = torch.cat(\n",
        "        (\n",
        "            mnist_image,\n",
        "            random_number\n",
        "        ),\n",
        "        dim= 1\n",
        "    )\n",
        "\n",
        "    # Pass concat vector to fully connected layers\n",
        "    random_number = self.fc1(random_number)\n",
        "    random_number = F.relu(random_number)\n",
        "    random_number = self.fc2(random_number)\n",
        "\n",
        "    return F.log_softmax(mnist_image), F.log_softmax(random_number)\n",
        " \n"
      ],
      "execution_count": null,
      "outputs": []
    },
    {
      "cell_type": "code",
      "metadata": {
        "colab": {
          "base_uri": "https://localhost:8080/"
        },
        "id": "f5BMY6J1Jpoy",
        "outputId": "94691196-9aee-4ebf-f9c1-df12e019fbd3"
      },
      "source": [
        "!pip install hiddenlayer\n"
      ],
      "execution_count": null,
      "outputs": [
        {
          "output_type": "stream",
          "text": [
            "Requirement already satisfied: hiddenlayer in /usr/local/lib/python3.7/dist-packages (0.3)\n"
          ],
          "name": "stdout"
        }
      ]
    },
    {
      "cell_type": "code",
      "metadata": {
        "colab": {
          "base_uri": "https://localhost:8080/",
          "height": 35
        },
        "id": "-26bIQ4qDSU_",
        "outputId": "d5b37992-e199-418a-e037-64a5f803d4fb"
      },
      "source": [
        "device = 'cuda' if torch.cuda.is_available() else 'cpu'\n",
        "device"
      ],
      "execution_count": null,
      "outputs": [
        {
          "output_type": "execute_result",
          "data": {
            "application/vnd.google.colaboratory.intrinsic+json": {
              "type": "string"
            },
            "text/plain": [
              "'cuda'"
            ]
          },
          "metadata": {
            "tags": []
          },
          "execution_count": 71
        }
      ]
    },
    {
      "cell_type": "code",
      "metadata": {
        "colab": {
          "base_uri": "https://localhost:8080/"
        },
        "id": "KgN1NZkDDC5C",
        "outputId": "7de4a450-ddcc-4034-bfd7-03e2fedbd1f7"
      },
      "source": [
        "network = Network()\n",
        "network.to(device)"
      ],
      "execution_count": null,
      "outputs": [
        {
          "output_type": "execute_result",
          "data": {
            "text/plain": [
              "Network(\n",
              "  (conv1): Conv2d(1, 32, kernel_size=(3, 3), stride=(1, 1), padding=(1, 1))\n",
              "  (conv2): Conv2d(32, 64, kernel_size=(3, 3), stride=(1, 1), padding=(1, 1))\n",
              "  (max_pool1): MaxPool2d(kernel_size=2, stride=2, padding=0, dilation=1, ceil_mode=False)\n",
              "  (conv3): Conv2d(64, 128, kernel_size=(3, 3), stride=(1, 1), padding=(1, 1))\n",
              "  (conv4): Conv2d(128, 256, kernel_size=(3, 3), stride=(1, 1), padding=(1, 1))\n",
              "  (max_pool2): MaxPool2d(kernel_size=2, stride=2, padding=0, dilation=1, ceil_mode=False)\n",
              "  (conv5): Conv2d(256, 512, kernel_size=(3, 3), stride=(1, 1))\n",
              "  (conv6): Conv2d(512, 1024, kernel_size=(3, 3), stride=(1, 1))\n",
              "  (conv7): Conv2d(1024, 10, kernel_size=(3, 3), stride=(1, 1))\n",
              "  (fc1): Linear(in_features=20, out_features=64, bias=True)\n",
              "  (fc2): Linear(in_features=64, out_features=19, bias=True)\n",
              ")"
            ]
          },
          "metadata": {
            "tags": []
          },
          "execution_count": 72
        }
      ]
    },
    {
      "cell_type": "code",
      "metadata": {
        "id": "inPexXQNKO8y"
      },
      "source": [
        "# import hiddenlayer as h1\n",
        "\n",
        "# h1.build_graph(network, torch.zeros([[1, 3, 28, 28], [1, 10]]))"
      ],
      "execution_count": null,
      "outputs": []
    },
    {
      "cell_type": "code",
      "metadata": {
        "colab": {
          "base_uri": "https://localhost:8080/"
        },
        "id": "WYJxdNKWDIqH",
        "outputId": "812c253a-27fd-4717-93c7-c9ea59e2ac92"
      },
      "source": [
        "batch = next(iter(train_loader))\n",
        "len(batch)"
      ],
      "execution_count": null,
      "outputs": [
        {
          "output_type": "execute_result",
          "data": {
            "text/plain": [
              "4"
            ]
          },
          "metadata": {
            "tags": []
          },
          "execution_count": 74
        }
      ]
    },
    {
      "cell_type": "code",
      "metadata": {
        "colab": {
          "base_uri": "https://localhost:8080/"
        },
        "id": "jQS76-u8Dp1a",
        "outputId": "9320d5bf-d2fb-422e-cddf-1f4dfea357e2"
      },
      "source": [
        "mnist_images, random_numbers, mnist_labels, sum_labels = batch\n",
        "\n",
        "print(mnist_images.shape, random_numbers.shape)\n",
        "\n",
        "pred_1, pred_2 = network(mnist_images.to(device), random_numbers.to(device))\n",
        "\n",
        "print(pred_1.shape, pred_2.shape)"
      ],
      "execution_count": null,
      "outputs": [
        {
          "output_type": "stream",
          "text": [
            "torch.Size([128, 1, 28, 28]) torch.Size([128, 10])\n",
            "torch.Size([128, 10]) torch.Size([128, 19])\n"
          ],
          "name": "stdout"
        },
        {
          "output_type": "stream",
          "text": [
            "/usr/local/lib/python3.7/dist-packages/ipykernel_launcher.py:105: UserWarning: Implicit dimension choice for log_softmax has been deprecated. Change the call to include dim=X as an argument.\n"
          ],
          "name": "stderr"
        }
      ]
    },
    {
      "cell_type": "code",
      "metadata": {
        "colab": {
          "base_uri": "https://localhost:8080/"
        },
        "id": "ETZC-3RQGfpe",
        "outputId": "8f18bad2-1a3c-4f73-de62-d94cc2e9ed46"
      },
      "source": [
        "torch.set_grad_enabled(True)"
      ],
      "execution_count": null,
      "outputs": [
        {
          "output_type": "execute_result",
          "data": {
            "text/plain": [
              "<torch.autograd.grad_mode.set_grad_enabled at 0x7fe3305f4750>"
            ]
          },
          "metadata": {
            "tags": []
          },
          "execution_count": 76
        }
      ]
    },
    {
      "cell_type": "code",
      "metadata": {
        "id": "E64uxpTKGknz"
      },
      "source": [
        "optimizer = torch.optim.Adam(network.parameters())"
      ],
      "execution_count": null,
      "outputs": []
    },
    {
      "cell_type": "code",
      "metadata": {
        "id": "Ln95AD6HDq_L"
      },
      "source": [
        "def get_num_correct(preds, labels):\n",
        "  preds = torch.argmax(preds,dim=1)\n",
        "\n",
        "  total_count = 0\n",
        "  for i in range(len(preds)):\n",
        "    if preds[i] == labels[i]:\n",
        "      total_count += 1\n",
        "  return total_count/len(preds)"
      ],
      "execution_count": null,
      "outputs": []
    },
    {
      "cell_type": "code",
      "metadata": {
        "id": "TV2DSDtgoyMY"
      },
      "source": [
        ""
      ],
      "execution_count": null,
      "outputs": []
    },
    {
      "cell_type": "code",
      "metadata": {
        "id": "ntiIsFCDoyCR"
      },
      "source": [
        ""
      ],
      "execution_count": null,
      "outputs": []
    },
    {
      "cell_type": "code",
      "metadata": {
        "colab": {
          "base_uri": "https://localhost:8080/"
        },
        "id": "i7Wjsj6ZJpmD",
        "outputId": "c588c86a-1ae0-49b9-dab0-87260132e24a"
      },
      "source": [
        "# Training Loop\n",
        "for epoch in range(3):\n",
        "\n",
        "    mnist_loss = 0\n",
        "    sum_loss = 0\n",
        "    total_loss = 0\n",
        "    mnist_correct = 0\n",
        "    sum_correct = 0\n",
        "    mnist_accuracy = 0\n",
        "    sum_accuracy = 0\n",
        "\n",
        "    for idx, batch in enumerate(train_loader): # Get Batch\n",
        "        mnist_images, random_numbers, mnist_labels, sum_label = batch \n",
        "\n",
        "        mnist_labels_predicted, sum_predicted = network(\n",
        "            mnist_images.to(device), \n",
        "            random_numbers.to(device)\n",
        "            ) # Pass Batch\n",
        "        \n",
        "        mnist_loss= F.cross_entropy(\n",
        "            mnist_labels_predicted, \n",
        "            mnist_labels.to(device)\n",
        "            )\n",
        "        \n",
        "        sum_loss = F.cross_entropy(\n",
        "            sum_predicted,\n",
        "            sum_label.to(device)\n",
        "        )\n",
        "\n",
        "        mnist_accuracy = get_num_correct(mnist_labels_predicted, mnist_labels.to(device))\n",
        "        sum_accuracy = get_num_correct(sum_predicted, sum_label.to(device))\n",
        "\n",
        "\n",
        "        # loss = torch.add(mnist_loss, sum_loss) # Calculate Loss\n",
        "        # loss = mnist_loss\n",
        "        optimizer.zero_grad()\n",
        "        # sum_loss.backward() # Calculate Gradients\n",
        "        \n",
        "        # if mnist_accuracy < 0.95:\n",
        "        mnist_loss.backward(retain_graph=True)\n",
        "        # else:\n",
        "        sum_loss.backward(retain_graph=False)\n",
        "        # loss = mnist_loss + sum_loss\n",
        "        # loss.backward()\n",
        "\n",
        "        optimizer.step() # Update Weights\n",
        "\n",
        "        # mnist_loss += mnist_loss.item()\n",
        "        # sum_loss += sum_loss.item()\n",
        "        # total_loss += loss.item()\n",
        "\n",
        "        # mnist_accuracy = get_num_correct(mnist_labels_predicted, mnist_labels.to(device))\n",
        "        # sum_accuracy = get_num_correct(sum_predicted, sum.to(device))\n",
        "\n",
        "        # mnist_accuracy = mnist_correct/len(mnist_labels)\n",
        "        # sum_accuracy = sum_correct/len(sum)\n",
        "\n",
        "    # print(\n",
        "    #     \"EPOCH.      : {} MNIST LOSS.   : {} SUM LOSS.     : {}  TOTAL LOSS.   : {} MNIST CORRECT.: {} SUM CORRECT.  : {} MNIST ACCURACY: {} SUM ACCURACY. : {} \".format(\n",
        "    #         epoch, \n",
        "    #         mnist_loss, \n",
        "    #         sum_loss,\n",
        "    #         total_loss,\n",
        "    #         mnist_correct,\n",
        "    #         sum_correct,\n",
        "    #         mnist_accuracy,\n",
        "    #         sum_accuracy)\n",
        "    # )\n",
        "    print(\"EPOCH.   {}.  MNIST ACCURACY.   {}.  SUM ACCURACY.  {}\".format(epoch, mnist_accuracy, sum_accuracy))"
      ],
      "execution_count": null,
      "outputs": [
        {
          "output_type": "stream",
          "text": [
            "/usr/local/lib/python3.7/dist-packages/ipykernel_launcher.py:105: UserWarning: Implicit dimension choice for log_softmax has been deprecated. Change the call to include dim=X as an argument.\n"
          ],
          "name": "stderr"
        },
        {
          "output_type": "stream",
          "text": [
            "EPOCH.   0.  MNIST ACCURACY.   0.9895833333333334.  SUM ACCURACY.  0.5833333333333334\n",
            "EPOCH.   1.  MNIST ACCURACY.   1.0.  SUM ACCURACY.  0.96875\n",
            "EPOCH.   2.  MNIST ACCURACY.   1.0.  SUM ACCURACY.  0.9895833333333334\n"
          ],
          "name": "stdout"
        }
      ]
    },
    {
      "cell_type": "code",
      "metadata": {
        "colab": {
          "base_uri": "https://localhost:8080/"
        },
        "id": "51bwe9M4G1Y-",
        "outputId": "d2493e0c-27bf-4407-fe1e-d7183aa578ed"
      },
      "source": [
        ""
      ],
      "execution_count": null,
      "outputs": [
        {
          "output_type": "stream",
          "text": [
            "/usr/local/lib/python3.7/dist-packages/ipykernel_launcher.py:105: UserWarning: Implicit dimension choice for log_softmax has been deprecated. Change the call to include dim=X as an argument.\n"
          ],
          "name": "stderr"
        },
        {
          "output_type": "stream",
          "text": [
            "EPOCH.   0.  MNIST ACCURACY.   0.9895833333333334.  SUM ACCURACY.  1.0\n",
            "EPOCH.   1.  MNIST ACCURACY.   1.0.  SUM ACCURACY.  0.9791666666666666\n",
            "EPOCH.   2.  MNIST ACCURACY.   1.0.  SUM ACCURACY.  0.9895833333333334\n",
            "EPOCH.   3.  MNIST ACCURACY.   1.0.  SUM ACCURACY.  0.96875\n",
            "EPOCH.   4.  MNIST ACCURACY.   1.0.  SUM ACCURACY.  0.9270833333333334\n"
          ],
          "name": "stdout"
        }
      ]
    },
    {
      "cell_type": "code",
      "metadata": {
        "id": "cIgreluNn_x3"
      },
      "source": [
        ""
      ],
      "execution_count": null,
      "outputs": []
    },
    {
      "cell_type": "code",
      "metadata": {
        "colab": {
          "base_uri": "https://localhost:8080/"
        },
        "id": "ewEJiXJKn_uD",
        "outputId": "2cdc4bbd-cd58-4ded-8476-cb43a5b95a3f"
      },
      "source": [
        "# Test Loop\n",
        "torch.set_grad_enabled(False)\n",
        "\n",
        "test_mnist_accuracy = []\n",
        "test_sum_accuracy = []\n",
        "\n",
        "for idx, batch in enumerate(test_loader): # Get Batch\n",
        "    mnist_images, random_numbers, mnist_labels, sum_label = batch \n",
        "\n",
        "    mnist_labels_predicted, sum_predicted = network(\n",
        "        mnist_images.to(device), \n",
        "        random_numbers.to(device)\n",
        "        ) # Pass Batch\n",
        "\n",
        "    mnist_accuracy1 = get_num_correct(mnist_labels_predicted, mnist_labels.to(device))\n",
        "    sum_accuracy1 = get_num_correct(sum_predicted, sum_label.to(device))\n",
        "\n",
        "    test_mnist_accuracy.append(mnist_accuracy1)\n",
        "    test_sum_accuracy.append(sum_accuracy1)\n",
        "    \n",
        "s1 = 0\n",
        "m1 = 0\n",
        "for i in range(len(test_sum_accuracy)):\n",
        "  s1 += test_sum_accuracy[i]\n",
        "\n",
        "for i in range(len(test_mnist_accuracy)):\n",
        "  m1 += test_mnist_accuracy[i]\n",
        "\n",
        "\n",
        "s_ac = round((s1/len(test_sum_accuracy)) * 100, 2)\n",
        "m_ac = round((m1/len(test_mnist_accuracy)) * 100, 2)\n",
        "\n",
        "print(\"MNIST ACCURACY.   {}.  SUM ACCURACY.  {}\".format(m_ac, s_ac))"
      ],
      "execution_count": null,
      "outputs": [
        {
          "output_type": "stream",
          "text": [
            "/usr/local/lib/python3.7/dist-packages/ipykernel_launcher.py:105: UserWarning: Implicit dimension choice for log_softmax has been deprecated. Change the call to include dim=X as an argument.\n"
          ],
          "name": "stderr"
        },
        {
          "output_type": "stream",
          "text": [
            "MNIST ACCURACY.   99.21.  SUM ACCURACY.  99.15\n"
          ],
          "name": "stdout"
        }
      ]
    },
    {
      "cell_type": "code",
      "metadata": {
        "id": "xEB9wDjyn_ro"
      },
      "source": [
        ""
      ],
      "execution_count": null,
      "outputs": []
    },
    {
      "cell_type": "code",
      "metadata": {
        "id": "akpFR4aXN9cW"
      },
      "source": [
        ""
      ],
      "execution_count": null,
      "outputs": []
    },
    {
      "cell_type": "code",
      "metadata": {
        "colab": {
          "base_uri": "https://localhost:8080/"
        },
        "id": "pPPLd5CXZe6Z",
        "outputId": "a0ef7e20-7ea6-4460-ab5a-0c95522167a7"
      },
      "source": [
        "# Training Loop\n",
        "for epoch in range(5):\n",
        "\n",
        "    mnist_loss = 0\n",
        "    sum_loss = 0\n",
        "    total_loss = 0\n",
        "    mnist_correct = 0\n",
        "    sum_correct = 0\n",
        "    mnist_accuracy = 0\n",
        "    sum_accuracy = 0\n",
        "\n",
        "    for idx, batch in enumerate(train_loader): # Get Batch\n",
        "        mnist_images, random_numbers, mnist_labels, sum_label = batch \n",
        "\n",
        "        mnist_labels_predicted, sum_predicted = network(\n",
        "            mnist_images.to(device), \n",
        "            random_numbers.to(device)\n",
        "            ) # Pass Batch\n",
        "        \n",
        "        mnist_loss= F.cross_entropy(\n",
        "            mnist_labels_predicted, \n",
        "            mnist_labels.to(device)\n",
        "            )\n",
        "        \n",
        "        sum_loss = F.cross_entropy(\n",
        "            sum_predicted,\n",
        "            sum_label.to(device)\n",
        "        )\n",
        "\n",
        "        mnist_accuracy = get_num_correct(mnist_labels_predicted, mnist_labels.to(device))\n",
        "        sum_accuracy = get_num_correct(sum_predicted, sum_label.to(device))\n",
        "\n",
        "\n",
        "        # loss = torch.add(mnist_loss, sum_loss) # Calculate Loss\n",
        "        # loss = mnist_loss\n",
        "        optimizer.zero_grad()\n",
        "        # sum_loss.backward() # Calculate Gradients\n",
        "\n",
        "        loss = mnist_loss + sum_loss\n",
        "        loss.backward()\n",
        "\n",
        "        optimizer.step() # Update Weights\n",
        "\n",
        "        # mnist_loss += mnist_loss.item()\n",
        "        # sum_loss += sum_loss.item()\n",
        "        # total_loss += loss.item()\n",
        "\n",
        "        # mnist_accuracy = get_num_correct(mnist_labels_predicted, mnist_labels.to(device))\n",
        "        # sum_accuracy = get_num_correct(sum_predicted, sum.to(device))\n",
        "\n",
        "        # mnist_accuracy = mnist_correct/len(mnist_labels)\n",
        "        # sum_accuracy = sum_correct/len(sum)\n",
        "\n",
        "    # print(\n",
        "    #     \"EPOCH.      : {} MNIST LOSS.   : {} SUM LOSS.     : {}  TOTAL LOSS.   : {} MNIST CORRECT.: {} SUM CORRECT.  : {} MNIST ACCURACY: {} SUM ACCURACY. : {} \".format(\n",
        "    #         epoch, \n",
        "    #         mnist_loss, \n",
        "    #         sum_loss,\n",
        "    #         total_loss,\n",
        "    #         mnist_correct,\n",
        "    #         sum_correct,\n",
        "    #         mnist_accuracy,\n",
        "    #         sum_accuracy)\n",
        "    # )\n",
        "    print(\"EPOCH.   {}.  MNIST ACCURACY.   {}.  SUM ACCURACY.  {}\".format(epoch, mnist_accuracy, sum_accuracy))"
      ],
      "execution_count": null,
      "outputs": [
        {
          "output_type": "stream",
          "text": [
            "/usr/local/lib/python3.7/dist-packages/ipykernel_launcher.py:105: UserWarning: Implicit dimension choice for log_softmax has been deprecated. Change the call to include dim=X as an argument.\n"
          ],
          "name": "stderr"
        },
        {
          "output_type": "stream",
          "text": [
            "EPOCH.   0.  MNIST ACCURACY.   1.0.  SUM ACCURACY.  0.65625\n",
            "EPOCH.   1.  MNIST ACCURACY.   0.9895833333333334.  SUM ACCURACY.  0.96875\n",
            "EPOCH.   2.  MNIST ACCURACY.   1.0.  SUM ACCURACY.  1.0\n",
            "EPOCH.   3.  MNIST ACCURACY.   0.9791666666666666.  SUM ACCURACY.  0.9791666666666666\n",
            "EPOCH.   4.  MNIST ACCURACY.   1.0.  SUM ACCURACY.  1.0\n"
          ],
          "name": "stdout"
        }
      ]
    },
    {
      "cell_type": "code",
      "metadata": {
        "id": "sjCkdsgTfDjA"
      },
      "source": [
        ""
      ],
      "execution_count": null,
      "outputs": []
    },
    {
      "cell_type": "code",
      "metadata": {
        "id": "Pr7Gi5LXfDdX"
      },
      "source": [
        ""
      ],
      "execution_count": null,
      "outputs": []
    },
    {
      "cell_type": "code",
      "metadata": {
        "id": "tfJTSxKvfDYR"
      },
      "source": [
        ""
      ],
      "execution_count": null,
      "outputs": []
    },
    {
      "cell_type": "code",
      "metadata": {
        "id": "bJ3-xE3kfDVe"
      },
      "source": [
        ""
      ],
      "execution_count": null,
      "outputs": []
    },
    {
      "cell_type": "code",
      "metadata": {
        "colab": {
          "base_uri": "https://localhost:8080/"
        },
        "id": "chOKZr4Vb24W",
        "outputId": "7a7b892f-dc84-4b06-f93b-bf43c919a2ff"
      },
      "source": [
        "# Training Loop\n",
        "for epoch in range(2):\n",
        "\n",
        "    mnist_loss = 0\n",
        "    sum_loss = 0\n",
        "    total_loss = 0\n",
        "    mnist_correct = 0\n",
        "    sum_correct = 0\n",
        "    mnist_accuracy = 0\n",
        "    sum_accuracy = 0\n",
        "\n",
        "    for idx, batch in enumerate(train_loader): # Get Batch\n",
        "        mnist_images, random_numbers, mnist_labels, sum_label = batch \n",
        "\n",
        "        mnist_labels_predicted, sum_predicted = network(\n",
        "            mnist_images.to(device), \n",
        "            random_numbers.to(device)\n",
        "            ) # Pass Batch\n",
        "        \n",
        "        mnist_loss= F.cross_entropy(\n",
        "            mnist_labels_predicted, \n",
        "            mnist_labels.to(device)\n",
        "            )\n",
        "        \n",
        "        sum_loss = F.cross_entropy(\n",
        "            sum_predicted,\n",
        "            sum_label.to(device)\n",
        "        )\n",
        "\n",
        "        mnist_accuracy = get_num_correct(mnist_labels_predicted, mnist_labels.to(device))\n",
        "        sum_accuracy = get_num_correct(sum_predicted, sum_label.to(device))\n",
        "\n",
        "\n",
        "        # loss = torch.add(mnist_loss, sum_loss) # Calculate Loss\n",
        "        # loss = mnist_loss\n",
        "        optimizer.zero_grad()\n",
        "        # sum_loss.backward() # Calculate Gradients\n",
        "        \n",
        "        if mnist_accuracy < 0.95:\n",
        "          mnist_loss.backward()\n",
        "        else:\n",
        "          sum_loss.backward()\n",
        "        # loss = mnist_loss + sum_loss\n",
        "        # loss.backward()\n",
        "\n",
        "        optimizer.step() # Update Weights\n",
        "\n",
        "        # mnist_loss += mnist_loss.item()\n",
        "        # sum_loss += sum_loss.item()\n",
        "        # total_loss += loss.item()\n",
        "\n",
        "        # mnist_accuracy = get_num_correct(mnist_labels_predicted, mnist_labels.to(device))\n",
        "        # sum_accuracy = get_num_correct(sum_predicted, sum.to(device))\n",
        "\n",
        "        # mnist_accuracy = mnist_correct/len(mnist_labels)\n",
        "        # sum_accuracy = sum_correct/len(sum)\n",
        "\n",
        "    # print(\n",
        "    #     \"EPOCH.      : {} MNIST LOSS.   : {} SUM LOSS.     : {}  TOTAL LOSS.   : {} MNIST CORRECT.: {} SUM CORRECT.  : {} MNIST ACCURACY: {} SUM ACCURACY. : {} \".format(\n",
        "    #         epoch, \n",
        "    #         mnist_loss, \n",
        "    #         sum_loss,\n",
        "    #         total_loss,\n",
        "    #         mnist_correct,\n",
        "    #         sum_correct,\n",
        "    #         mnist_accuracy,\n",
        "    #         sum_accuracy)\n",
        "    # )\n",
        "    print(\"EPOCH.   {}.  MNIST ACCURACY.   {}.  SUM ACCURACY.  {}\".format(epoch, mnist_accuracy, sum_accuracy))"
      ],
      "execution_count": null,
      "outputs": [
        {
          "output_type": "stream",
          "text": [
            "/usr/local/lib/python3.7/dist-packages/ipykernel_launcher.py:105: UserWarning: Implicit dimension choice for log_softmax has been deprecated. Change the call to include dim=X as an argument.\n"
          ],
          "name": "stderr"
        },
        {
          "output_type": "stream",
          "text": [
            "EPOCH.   0.  MNIST ACCURACY.   0.9791666666666666.  SUM ACCURACY.  0.4375\n",
            "EPOCH.   1.  MNIST ACCURACY.   0.96875.  SUM ACCURACY.  0.90625\n"
          ],
          "name": "stdout"
        }
      ]
    },
    {
      "cell_type": "code",
      "metadata": {
        "id": "_jOGp0Jdo1_8"
      },
      "source": [
        ""
      ],
      "execution_count": null,
      "outputs": []
    },
    {
      "cell_type": "code",
      "metadata": {
        "colab": {
          "base_uri": "https://localhost:8080/",
          "height": 341
        },
        "id": "ksZYIr-EpnLm",
        "outputId": "de80b22d-7be5-4df8-f4c4-d05c78afaf23"
      },
      "source": [
        "from torchsummary import summary\n",
        "\n",
        "summary(network, (1, 28, 28))"
      ],
      "execution_count": null,
      "outputs": [
        {
          "output_type": "error",
          "ename": "TypeError",
          "evalue": "ignored",
          "traceback": [
            "\u001b[0;31m---------------------------------------------------------------------------\u001b[0m",
            "\u001b[0;31mTypeError\u001b[0m                                 Traceback (most recent call last)",
            "\u001b[0;32m<ipython-input-56-6ff0f3b93de0>\u001b[0m in \u001b[0;36m<module>\u001b[0;34m()\u001b[0m\n\u001b[1;32m      1\u001b[0m \u001b[0;32mfrom\u001b[0m \u001b[0mtorchsummary\u001b[0m \u001b[0;32mimport\u001b[0m \u001b[0msummary\u001b[0m\u001b[0;34m\u001b[0m\u001b[0;34m\u001b[0m\u001b[0m\n\u001b[1;32m      2\u001b[0m \u001b[0;34m\u001b[0m\u001b[0m\n\u001b[0;32m----> 3\u001b[0;31m \u001b[0msummary\u001b[0m\u001b[0;34m(\u001b[0m\u001b[0mnetwork\u001b[0m\u001b[0;34m,\u001b[0m \u001b[0;34m(\u001b[0m\u001b[0;36m1\u001b[0m\u001b[0;34m,\u001b[0m \u001b[0;36m28\u001b[0m\u001b[0;34m,\u001b[0m \u001b[0;36m28\u001b[0m\u001b[0;34m)\u001b[0m\u001b[0;34m)\u001b[0m\u001b[0;34m\u001b[0m\u001b[0;34m\u001b[0m\u001b[0m\n\u001b[0m",
            "\u001b[0;32m/usr/local/lib/python3.7/dist-packages/torchsummary/torchsummary.py\u001b[0m in \u001b[0;36msummary\u001b[0;34m(model, input_size, batch_size, device)\u001b[0m\n\u001b[1;32m     70\u001b[0m     \u001b[0;31m# make a forward pass\u001b[0m\u001b[0;34m\u001b[0m\u001b[0;34m\u001b[0m\u001b[0;34m\u001b[0m\u001b[0m\n\u001b[1;32m     71\u001b[0m     \u001b[0;31m# print(x.shape)\u001b[0m\u001b[0;34m\u001b[0m\u001b[0;34m\u001b[0m\u001b[0;34m\u001b[0m\u001b[0m\n\u001b[0;32m---> 72\u001b[0;31m     \u001b[0mmodel\u001b[0m\u001b[0;34m(\u001b[0m\u001b[0;34m*\u001b[0m\u001b[0mx\u001b[0m\u001b[0;34m)\u001b[0m\u001b[0;34m\u001b[0m\u001b[0;34m\u001b[0m\u001b[0m\n\u001b[0m\u001b[1;32m     73\u001b[0m \u001b[0;34m\u001b[0m\u001b[0m\n\u001b[1;32m     74\u001b[0m     \u001b[0;31m# remove these hooks\u001b[0m\u001b[0;34m\u001b[0m\u001b[0;34m\u001b[0m\u001b[0;34m\u001b[0m\u001b[0m\n",
            "\u001b[0;32m/usr/local/lib/python3.7/dist-packages/torch/nn/modules/module.py\u001b[0m in \u001b[0;36m_call_impl\u001b[0;34m(self, *input, **kwargs)\u001b[0m\n\u001b[1;32m    887\u001b[0m             \u001b[0mresult\u001b[0m \u001b[0;34m=\u001b[0m \u001b[0mself\u001b[0m\u001b[0;34m.\u001b[0m\u001b[0m_slow_forward\u001b[0m\u001b[0;34m(\u001b[0m\u001b[0;34m*\u001b[0m\u001b[0minput\u001b[0m\u001b[0;34m,\u001b[0m \u001b[0;34m**\u001b[0m\u001b[0mkwargs\u001b[0m\u001b[0;34m)\u001b[0m\u001b[0;34m\u001b[0m\u001b[0;34m\u001b[0m\u001b[0m\n\u001b[1;32m    888\u001b[0m         \u001b[0;32melse\u001b[0m\u001b[0;34m:\u001b[0m\u001b[0;34m\u001b[0m\u001b[0;34m\u001b[0m\u001b[0m\n\u001b[0;32m--> 889\u001b[0;31m             \u001b[0mresult\u001b[0m \u001b[0;34m=\u001b[0m \u001b[0mself\u001b[0m\u001b[0;34m.\u001b[0m\u001b[0mforward\u001b[0m\u001b[0;34m(\u001b[0m\u001b[0;34m*\u001b[0m\u001b[0minput\u001b[0m\u001b[0;34m,\u001b[0m \u001b[0;34m**\u001b[0m\u001b[0mkwargs\u001b[0m\u001b[0;34m)\u001b[0m\u001b[0;34m\u001b[0m\u001b[0;34m\u001b[0m\u001b[0m\n\u001b[0m\u001b[1;32m    890\u001b[0m         for hook in itertools.chain(\n\u001b[1;32m    891\u001b[0m                 \u001b[0m_global_forward_hooks\u001b[0m\u001b[0;34m.\u001b[0m\u001b[0mvalues\u001b[0m\u001b[0;34m(\u001b[0m\u001b[0;34m)\u001b[0m\u001b[0;34m,\u001b[0m\u001b[0;34m\u001b[0m\u001b[0;34m\u001b[0m\u001b[0m\n",
            "\u001b[0;31mTypeError\u001b[0m: forward() missing 1 required positional argument: 'random_number'"
          ]
        }
      ]
    },
    {
      "cell_type": "code",
      "metadata": {
        "id": "3XNYEI1gpnBu"
      },
      "source": [
        ""
      ],
      "execution_count": null,
      "outputs": []
    },
    {
      "cell_type": "code",
      "metadata": {
        "colab": {
          "base_uri": "https://localhost:8080/"
        },
        "id": "EjDWhW-Zpm9y",
        "outputId": "27a3c872-9884-4a68-f87b-e39afa096959"
      },
      "source": [
        "# Test Loop\n",
        "torch.set_grad_enabled(False)\n",
        "\n",
        "test_mnist_accuracy = []\n",
        "test_sum_accuracy = []\n",
        "\n",
        "for idx, batch in enumerate(test_loader): # Get Batch\n",
        "    mnist_images, random_numbers, mnist_labels, sum_label = batch \n",
        "\n",
        "    mnist_labels_predicted, sum_predicted = network(\n",
        "        mnist_images.to(device), \n",
        "        random_numbers.to(device)\n",
        "        ) # Pass Batch\n",
        "    \n",
        "    # mnist_loss= F.cross_entropy(\n",
        "    #     mnist_labels_predicted, \n",
        "    #     mnist_labels.to(device)\n",
        "    #     )\n",
        "    \n",
        "    # sum_loss = F.cross_entropy(\n",
        "    #     sum_predicted,\n",
        "    #     sum.to(device)\n",
        "    # )\n",
        "\n",
        "    mnist_accuracy1 = get_num_correct(mnist_labels_predicted, mnist_labels.to(device))\n",
        "    sum_accuracy1 = get_num_correct(sum_predicted, sum_label.to(device))\n",
        "\n",
        "    test_mnist_accuracy.append(mnist_accuracy1)\n",
        "    test_sum_accuracy.append(sum_accuracy1)\n",
        "\n",
        "\n",
        "# type(test_mnist_accuracy), type(test_sum_accuracy)\n",
        "# sum(1+1)\n",
        "s1 = 0\n",
        "m1 = 0\n",
        "for i in range(len(test_sum_accuracy)):\n",
        "  s1 += test_sum_accuracy[i]\n",
        "\n",
        "for i in range(len(test_mnist_accuracy)):\n",
        "  m1 += test_mnist_accuracy[i]\n",
        "\n",
        "\n",
        "s_ac = round((s1/len(test_sum_accuracy)) * 100, 2)\n",
        "m_ac = round((m1/len(test_mnist_accuracy)) * 100, 2)\n",
        "\n",
        "print(\"MNIST ACCURACY.   {}.  SUM ACCURACY.  {}\".format(m_ac, s_ac))"
      ],
      "execution_count": null,
      "outputs": [
        {
          "output_type": "stream",
          "text": [
            "/usr/local/lib/python3.7/dist-packages/ipykernel_launcher.py:105: UserWarning: Implicit dimension choice for log_softmax has been deprecated. Change the call to include dim=X as an argument.\n"
          ],
          "name": "stderr"
        },
        {
          "output_type": "stream",
          "text": [
            "MNIST ACCURACY.   98.72.  SUM ACCURACY.  97.71\n"
          ],
          "name": "stdout"
        }
      ]
    },
    {
      "cell_type": "code",
      "metadata": {
        "colab": {
          "base_uri": "https://localhost:8080/",
          "height": 164
        },
        "id": "pOzs53biqU_L",
        "outputId": "4fd75138-93d9-408d-fe4a-5aa9b9e86923"
      },
      "source": [
        ""
      ],
      "execution_count": null,
      "outputs": [
        {
          "output_type": "error",
          "ename": "TypeError",
          "evalue": "ignored",
          "traceback": [
            "\u001b[0;31m---------------------------------------------------------------------------\u001b[0m",
            "\u001b[0;31mTypeError\u001b[0m                                 Traceback (most recent call last)",
            "\u001b[0;32m<ipython-input-417-7055dde70225>\u001b[0m in \u001b[0;36m<module>\u001b[0;34m()\u001b[0m\n\u001b[0;32m----> 1\u001b[0;31m \u001b[0msum\u001b[0m\u001b[0;34m(\u001b[0m\u001b[0;36m1\u001b[0m\u001b[0;34m+\u001b[0m\u001b[0;36m1\u001b[0m\u001b[0;34m)\u001b[0m\u001b[0;34m\u001b[0m\u001b[0;34m\u001b[0m\u001b[0m\n\u001b[0m",
            "\u001b[0;31mTypeError\u001b[0m: 'Tensor' object is not callable"
          ]
        }
      ]
    },
    {
      "cell_type": "code",
      "metadata": {
        "id": "RZul2lJsqU8M"
      },
      "source": [
        ""
      ],
      "execution_count": null,
      "outputs": []
    },
    {
      "cell_type": "code",
      "metadata": {
        "id": "d180v9-VqU40"
      },
      "source": [
        ""
      ],
      "execution_count": null,
      "outputs": []
    },
    {
      "cell_type": "code",
      "metadata": {
        "id": "kMTzdtsSqU1H"
      },
      "source": [
        ""
      ],
      "execution_count": null,
      "outputs": []
    }
  ]
}
